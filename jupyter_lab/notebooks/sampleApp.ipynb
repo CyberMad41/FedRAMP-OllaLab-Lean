{
 "cells": [
  {
   "cell_type": "code",
   "execution_count": 2,
   "id": "5095567e-41f6-41e1-a70c-6e9e084c7a66",
   "metadata": {},
   "outputs": [],
   "source": [
    "import os\n",
    "import ollama\n",
    "from ollama import Client"
   ]
  },
  {
   "cell_type": "code",
   "execution_count": 23,
   "id": "e008f317-4cd7-4999-9b84-f0f7687f37b6",
   "metadata": {},
   "outputs": [],
   "source": [
    "ollama_client = Client(host=\"http://host.docker.internal:8000\")\n"
   ]
  },
  {
   "cell_type": "code",
   "execution_count": 35,
   "id": "8250f6ee-1f17-48bd-80d3-e7f295b926df",
   "metadata": {},
   "outputs": [
    {
     "name": "stdout",
     "output_type": "stream",
     "text": [
      "{'models': [{'name': 'llama3.1:8b', 'model': 'llama3.1:8b', 'modified_at': '2024-09-22T03:40:56.698772145Z', 'size': 4661230766, 'digest': '42182419e9508c30c4b1fe55015f06b65f4ca4b9e28a744be55008d21998a093', 'details': {'parent_model': '', 'format': 'gguf', 'family': 'llama', 'families': ['llama'], 'parameter_size': '8.0B', 'quantization_level': 'Q4_0'}}]}\n"
     ]
    }
   ],
   "source": [
    "models=ollama_client.list()\n",
    "print(models)"
   ]
  },
  {
   "cell_type": "code",
   "execution_count": 43,
   "id": "442bf17f-3dba-433e-bd64-e83308e9bfbb",
   "metadata": {},
   "outputs": [
    {
     "name": "stdout",
     "output_type": "stream",
     "text": [
      "llama3.1:8b\n"
     ]
    }
   ],
   "source": [
    "for model in models[\"models\"]:\n",
    "    print (model[\"name\"])"
   ]
  },
  {
   "cell_type": "code",
   "execution_count": 27,
   "id": "54e7bf88-9ad9-414b-808c-acddbf2e6f22",
   "metadata": {},
   "outputs": [],
   "source": [
    "user_input = \"Tell me a joke about AI\"\n",
    "response = ollama_client.chat(model='llama3.1:8b', messages=[\n",
    "            {\n",
    "                'role': 'user',\n",
    "                'content': user_input,\n",
    "            },\n",
    "        ])"
   ]
  },
  {
   "cell_type": "code",
   "execution_count": 31,
   "id": "75a3e87d-2137-4123-9405-df4ed9bd951e",
   "metadata": {},
   "outputs": [
    {
     "name": "stdout",
     "output_type": "stream",
     "text": [
      "Why did the AI program go on a diet?\n",
      "\n",
      "Because it wanted to lose some bytes.\n"
     ]
    }
   ],
   "source": [
    "print(response[\"message\"][\"content\"])"
   ]
  },
  {
   "cell_type": "code",
   "execution_count": null,
   "id": "d9dd1c26-fd38-4fe1-ae7d-74349c3a69da",
   "metadata": {},
   "outputs": [],
   "source": []
  }
 ],
 "metadata": {
  "kernelspec": {
   "display_name": "Python 3 (ipykernel)",
   "language": "python",
   "name": "python3"
  },
  "language_info": {
   "codemirror_mode": {
    "name": "ipython",
    "version": 3
   },
   "file_extension": ".py",
   "mimetype": "text/x-python",
   "name": "python",
   "nbconvert_exporter": "python",
   "pygments_lexer": "ipython3",
   "version": "3.11.10"
  }
 },
 "nbformat": 4,
 "nbformat_minor": 5
}
